{
 "cells": [
  {
   "cell_type": "markdown",
   "id": "b0764074",
   "metadata": {},
   "source": [
    "This notebook shows how the admissions dataset was generated before being anonymised.\n",
    "\n",
    "To read more about this code, please navigate to the public repo StaffSpy hosted by cullenwatson or follow the link below:\n",
    "\n",
    "https://github.com/cullenwatson/StaffSpy/tree/main"
   ]
  },
  {
   "cell_type": "code",
   "execution_count": null,
   "id": "85adc5c9",
   "metadata": {},
   "outputs": [],
   "source": [
    "pip install \"git+https://github.com/cullenwatson/StaffSpy.git#egg=staffspy[browser]\""
   ]
  },
  {
   "cell_type": "code",
   "execution_count": null,
   "id": "654fe522",
   "metadata": {},
   "outputs": [],
   "source": [
    "from staffspy import LinkedInAccount, SolverType, DriverType, BrowserType\n",
    "\n",
    "# Create a LinkedIn account session\n",
    "account = LinkedInAccount(\n",
    "    session_file=\"session1.pkl\",  # Saves login cookies\n",
    "    log_level=1  # 0 for no logs\n",
    ")\n"
   ]
  },
  {
   "cell_type": "markdown",
   "id": "bda10bc5",
   "metadata": {},
   "source": [
    "Scraping LinkedIn accounts with \"Cambridge University\", \"data scientist\" and \"United Kingdom\" in the profile."
   ]
  },
  {
   "cell_type": "code",
   "execution_count": null,
   "id": "39d0677c",
   "metadata": {},
   "outputs": [],
   "source": [
    "staff = account.scrape_staff(\n",
    "    company_name=\"\",  \n",
    "    search_term='data scientist', \"Cambridge University\" \n",
    "    location=\"United Kingdom\",\n",
    "    extra_profile_data=True,\n",
    "    max_results=150,  \n",
    "    block=True\n",
    ")\n",
    "\n",
    "\n",
    "csv_file = \"admission dataset\"\n",
    "\n",
    "#Immediately appending data to the csv to avoid losing files in case code shuts down to avoid LinkedIn blockers\n",
    "if os.path.isfile(csv_file):\n",
    "    staff.to_csv(csv_file, mode='a', index=False, header=False)  \n",
    "else:\n",
    "    staff.to_csv(csv_file, index=False) \n"
   ]
  },
  {
   "cell_type": "markdown",
   "id": "e958228a",
   "metadata": {},
   "source": [
    "Scraping LinkedIn accounts with only \"data scientist\" and \"United Kingdom\" in the profile."
   ]
  },
  {
   "cell_type": "code",
   "execution_count": null,
   "id": "569cbd60",
   "metadata": {},
   "outputs": [],
   "source": [
    "staff = account.scrape_staff(\n",
    "    company_name=\"\",  \n",
    "    search_term='data scientist'\n",
    "    location=\"United Kingdom\",\n",
    "    extra_profile_data=True,\n",
    "    max_results=150,  \n",
    "    block=True\n",
    ")\n",
    "\n",
    "#Immediately appending data to the csv to avoid losing files in case code shuts down to avoid LinkedIn blockers\n",
    "staff.to_csv(csv_file, mode='a', index=False, header=False)  \n"
   ]
  },
  {
   "cell_type": "markdown",
   "id": "d78ab412",
   "metadata": {},
   "source": [
    "Note: The raw scraped dataset has been anonymised to protect personal information before use."
   ]
  }
 ],
 "metadata": {
  "kernelspec": {
   "display_name": "Python (base)",
   "language": "python",
   "name": "base"
  },
  "language_info": {
   "codemirror_mode": {
    "name": "ipython",
    "version": 3
   },
   "file_extension": ".py",
   "mimetype": "text/x-python",
   "name": "python",
   "nbconvert_exporter": "python",
   "pygments_lexer": "ipython3",
   "version": "3.9.7"
  }
 },
 "nbformat": 4,
 "nbformat_minor": 5
}
