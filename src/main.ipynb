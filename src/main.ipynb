{
 "cells": [
  {
   "cell_type": "code",
   "execution_count": 1,
   "id": "5c07c24d",
   "metadata": {},
   "outputs": [],
   "source": [
    "import pandas as pd\n",
    "import numpy as np\n",
    "import os\n",
    "import matplotlib.pyplot as plt\n",
    "import ast\n",
    "\n",
    "\n",
    "from sklearn.model_selection import train_test_split, cross_val_score, GridSearchCV\n",
    "from sklearn.ensemble import RandomForestClassifier\n",
    "from sklearn.metrics import accuracy_score, classification_report, roc_auc_score, roc_curve, confusion_matrix, precision_recall_curve\n",
    "from sklearn.inspection import permutation_importance\n",
    "from sklearn.pipeline import Pipeline\n",
    "from sklearn.preprocessing import StandardScaler\n",
    "from sklearn.compose import ColumnTransformer\n",
    "from sklearn.linear_model import LogisticRegression\n",
    "from sklearn.ensemble import ExtraTreesClassifier\n",
    "\n",
    "\n",
    "\n",
    "import imblearn\n",
    "from imblearn.over_sampling import SMOTE\n",
    "from imblearn.pipeline import Pipeline as ImbPipeline\n",
    "from imblearn.under_sampling import RandomUnderSampler\n",
    "from imblearn.combine import SMOTETomek\n"
   ]
  },
  {
   "cell_type": "markdown",
   "id": "d2fb5636",
   "metadata": {},
   "source": [
    "Importing the admisssions dataset to start pre-processing"
   ]
  },
  {
   "cell_type": "code",
   "execution_count": 2,
   "id": "3cd6283f",
   "metadata": {},
   "outputs": [],
   "source": [
    "df = pd.read_csv(r\"../datasets/anonymised admissions dataset\")\n"
   ]
  },
  {
   "cell_type": "code",
   "execution_count": 3,
   "id": "d03b8b43",
   "metadata": {},
   "outputs": [
    {
     "name": "stdout",
     "output_type": "stream",
     "text": [
      "<class 'pandas.core.frame.DataFrame'>\n",
      "RangeIndex: 656 entries, 0 to 655\n",
      "Data columns (total 20 columns):\n",
      " #   Column            Non-Null Count  Dtype \n",
      "---  ------            --------------  ----- \n",
      " 0   Unnamed: 0        656 non-null    int64 \n",
      " 1   ID                656 non-null    int64 \n",
      " 2   search_term       656 non-null    object\n",
      " 3   location          642 non-null    object\n",
      " 4   headline          655 non-null    object\n",
      " 5   current_position  596 non-null    object\n",
      " 6   current_company   640 non-null    object\n",
      " 7   past_company_1    625 non-null    object\n",
      " 8   past_company_2    584 non-null    object\n",
      " 9   school_1          639 non-null    object\n",
      " 10  school_2          589 non-null    object\n",
      " 11  top_skill_1       610 non-null    object\n",
      " 12  top_skill_2       607 non-null    object\n",
      " 13  top_skill_3       604 non-null    object\n",
      " 14  bio               464 non-null    object\n",
      " 15  experiences       641 non-null    object\n",
      " 16  schools           639 non-null    object\n",
      " 17  skills            610 non-null    object\n",
      " 18  certifications    388 non-null    object\n",
      " 19  languages         642 non-null    object\n",
      "dtypes: int64(2), object(18)\n",
      "memory usage: 102.6+ KB\n"
     ]
    }
   ],
   "source": [
    "df.info()"
   ]
  },
  {
   "cell_type": "markdown",
   "id": "0e88570d",
   "metadata": {},
   "source": [
    "## Preprocessing ##\n",
    "\n",
    "We start by handling null values"
   ]
  },
  {
   "cell_type": "code",
   "execution_count": 4,
   "id": "29907833",
   "metadata": {},
   "outputs": [],
   "source": [
    "#removing values where both school_1 and school_2 are null\n",
    "df1=df.copy()\n",
    "\n",
    "\n",
    "df1.dropna(subset=[\"school_1\", \"school_2\"], inplace=True)"
   ]
  },
  {
   "cell_type": "markdown",
   "id": "36ab7fb0",
   "metadata": {},
   "source": [
    "## Feature Engineering \n",
    "\n",
    "Creating a column to capture whether they have studied at the University of Cambridge.\n",
    "\n",
    "Creating a column to record other universities attended.\n",
    "\n",
    "To do this, we start by filtering out for only records where either school_1 or school_2 contain \"Cambridge\""
   ]
  },
  {
   "cell_type": "code",
   "execution_count": 5,
   "id": "e40589a7",
   "metadata": {},
   "outputs": [],
   "source": [
    "df2=df1.copy()\n",
    "\n",
    "df2=df2.loc[df2[\"school_1\"].str.contains(\"Cambridge\", case=False, na=False) |\n",
    "        df2[\"school_2\"].str.contains(\"Cambridge\", case=False, na=False)]\n",
    "\n",
    "# Creating a new column to record the non-Cambridge university attended\n",
    "\n",
    "df2[\"non-Cambridge uni\"] = np.where(\n",
    "    df2[\"school_1\"].str.contains(\"Cambridge\", case=False, na=False), \n",
    "    df2[\"school_2\"],  # If \"Cambridge\" is in school_1, use school_2\n",
    "    df2[\"school_1\"]   # Else, use school_1\n",
    ")\n",
    "\n",
    "df2[\"Cambridge?\"] = 1\n"
   ]
  },
  {
   "cell_type": "markdown",
   "id": "ffd25a53",
   "metadata": {},
   "source": [
    "We now repeat the feature engineering process for records that do not contain \"Cambridge.\"\n",
    "\n",
    "Since both school records include two different university fields, we have two approaches for creating the dataset:\n",
    "\n",
    "1. Duplication Method (dup_df): Data from two schools per profile was split into separate rows, increasing diversity but introducing some synthetic noise.\n",
    "\n",
    "2. Arbitrary Method (arb_df): Only one school (typically the most recent) was selected, ensuring greater reliability at the expense of some nuance.\n",
    "\n",
    "For this project, both datasets were generated, and similar models were run on each to better explore the nuances within the data."
   ]
  },
  {
   "cell_type": "code",
   "execution_count": 6,
   "id": "bd8c2121",
   "metadata": {},
   "outputs": [],
   "source": [
    "df3 = df1[~df1.index.isin(df2.index)] #generating a non-Cambridge dataset"
   ]
  },
  {
   "cell_type": "code",
   "execution_count": 7,
   "id": "b6b88ebc",
   "metadata": {},
   "outputs": [],
   "source": [
    "#Duplication method : \n",
    "\n",
    "dup_df = pd.DataFrame()  \n",
    "\n",
    "for index, row in df3.iterrows():\n",
    "    schools = [row['school_1'], row['school_2']]  \n",
    "    for school in schools:\n",
    "        new_row = row.copy()  \n",
    "        new_row['school_1'] = school  \n",
    "        dup_df = pd.concat([dup_df, pd.DataFrame([new_row])], ignore_index=True)\n",
    "        \n",
    "dup_df[\"non-Cambridge uni\"] =dup_df[\"school_1\"]\n",
    "dup_df[\"Cambridge?\"] =0\n",
    "\n",
    "\n",
    "dup_df=pd.concat([dup_df,df2], ignore_index=True)\n"
   ]
  },
  {
   "cell_type": "code",
   "execution_count": 8,
   "id": "8dd7c44a",
   "metadata": {},
   "outputs": [],
   "source": [
    "# Arbitrary method :\n",
    "\n",
    "arb_df=df3.copy()\n",
    "arb_df[\"non-Cambridge uni\"]=arb_df[\"school_1\"]\n",
    "arb_df[\"Cambridge?\"]=0\n",
    "\n",
    "arb_df=pd.concat([arb_df,df2], ignore_index=True)"
   ]
  },
  {
   "cell_type": "markdown",
   "id": "6f3d1227",
   "metadata": {},
   "source": [
    "I wanted to investigate the importance of going to a Russel group university affects admissions to Cambridge.\n",
    "\n",
    "To reflect the difference in prestige, I have grouped the universities of Oxford and Cambridge differently to other Russel group universities."
   ]
  },
  {
   "cell_type": "code",
   "execution_count": 9,
   "id": "e39752e2",
   "metadata": {},
   "outputs": [],
   "source": [
    "Oxbridge =[\"University of Oxford\",\"University of Cambridge\"]\n",
    "Russel = [\n",
    "    \"University of Birmingham\",\n",
    "    \"University of Bristol\",\n",
    "    \"Cardiff University\",\n",
    "    \"Durham University\",\n",
    "    \"University of Edinburgh\",\n",
    "    \"University of Exeter\",\n",
    "    \"University of Glasgow\",\n",
    "    \"Imperial College London\",\n",
    "    \"King's College London\",\n",
    "    \"University of Leeds\",\n",
    "    \"University of Liverpool\",\n",
    "    \"The London School of Economics and Political Science (LSE)\",\n",
    "    \"University of Manchester\",\n",
    "    \"Newcastle University\",\n",
    "    \"University of Nottingham\",\n",
    "    \"University of Sheffield\",\n",
    "    \"University of Southampton\",\n",
    "    \"UCL\",\n",
    "    \"University of Warwick\",\n",
    "    \"University of York\",\n",
    "    \"Queen Mary University of London\",\n",
    "    \"Queen's University Belfast\"\n",
    "]"
   ]
  },
  {
   "cell_type": "code",
   "execution_count": 10,
   "id": "582cda0a",
   "metadata": {},
   "outputs": [],
   "source": [
    "def classify_uni(uni):\n",
    "    if uni in Russel:\n",
    "        return 1\n",
    "    elif uni in Oxbridge:\n",
    "        return 2\n",
    "    else:\n",
    "        return 0\n",
    "    \n",
    "dup_df[\"Uni Class\"] = dup_df[\"non-Cambridge uni\"].apply(classify_uni)\n",
    "arb_df[\"Uni Class\"]=arb_df[\"non-Cambridge uni\"].apply(classify_uni)"
   ]
  },
  {
   "cell_type": "markdown",
   "id": "18a67c93",
   "metadata": {},
   "source": [
    "During data exploratory analysis, I found that data in the \"experiences\" feature is a list of dictionaries currently being stored as a string. To extract meaningful information, I have created fields capturing the months of experience in data related fields and leadership positions. "
   ]
  },
  {
   "cell_type": "code",
   "execution_count": 11,
   "id": "3bb91c5c",
   "metadata": {},
   "outputs": [],
   "source": [
    "dup_df['experiences'] = dup_df['experiences'].apply(lambda x: ast.literal_eval(x) if isinstance(x, str) else x)\n",
    "arb_df['experiences']=arb_df['experiences'].apply(lambda x: ast.literal_eval(x) if isinstance(x,str) else x)"
   ]
  },
  {
   "cell_type": "code",
   "execution_count": 12,
   "id": "b373dfda",
   "metadata": {},
   "outputs": [],
   "source": [
    "from datetime import datetime\n",
    "\n",
    "\n",
    "def calculate_months(start, end):\n",
    "    \"\"\"Calculate the difference in months between two dates.\"\"\"\n",
    "    if end is None:\n",
    "        end = datetime.today().strftime('%Y-%m-%d') \n",
    "    start_date = datetime.strptime(start, '%Y-%m-%d')\n",
    "    end_date = datetime.strptime(end, '%Y-%m-%d')\n",
    "    \n",
    "    return (end_date.year - start_date.year) * 12 + (end_date.month - start_date.month)\n"
   ]
  },
  {
   "cell_type": "code",
   "execution_count": 13,
   "id": "0eb52c46",
   "metadata": {},
   "outputs": [],
   "source": [
    "def extract_experience(experiences):\n",
    "    data_months = 0\n",
    "    leader_months = 0\n",
    "\n",
    "    if isinstance(experiences, list):\n",
    "        for exp in experiences:\n",
    "            start = exp.get('start_date')\n",
    "            end = exp.get('end_date')\n",
    "            title = exp.get('title', '').lower()\n",
    "\n",
    "            if not start:\n",
    "                continue\n",
    "\n",
    "            months = calculate_months(start, end)\n",
    "\n",
    "            if any(word in title for word in ['data', 'analytics', 'ml', 'ai', 'scientist', 'engineer']):\n",
    "                data_months += months\n",
    "\n",
    "            if any(word in title for word in ['president', 'vice president', 'founder', 'head', 'CEO', 'COO']):\n",
    "                leader_months += months\n",
    "\n",
    "    return data_months,leader_months"
   ]
  },
  {
   "cell_type": "code",
   "execution_count": 14,
   "id": "b3c46fc8",
   "metadata": {},
   "outputs": [],
   "source": [
    "dup_df[['data_months', 'leader_months']] = dup_df['experiences'].apply(lambda x: pd.Series(extract_experience(x)))\n",
    "\n",
    "arb_df[['data_months', 'leader_months']] = dup_df['experiences'].apply(lambda x: pd.Series(extract_experience(x)))"
   ]
  },
  {
   "cell_type": "markdown",
   "id": "aca1a195",
   "metadata": {},
   "source": [
    "Adding in the QS World University Rankings for 2025"
   ]
  },
  {
   "cell_type": "code",
   "execution_count": 15,
   "id": "7477713f",
   "metadata": {},
   "outputs": [],
   "source": [
    "qs=pd.read_csv(r\"../datasets/qs-world-rankings-2025\")\n"
   ]
  },
  {
   "cell_type": "code",
   "execution_count": 16,
   "id": "1c442a48",
   "metadata": {},
   "outputs": [],
   "source": [
    "dup_df = dup_df.merge(qs[['Institution Name', '2025 Rank']], \n",
    "                         how='left', \n",
    "                         left_on='non-Cambridge uni', \n",
    "                         right_on='Institution Name')\n",
    "\n",
    "arb_df = arb_df.merge(qs[['Institution Name', '2025 Rank']], \n",
    "                         how='left', \n",
    "                         left_on='non-Cambridge uni', \n",
    "                         right_on='Institution Name')"
   ]
  },
  {
   "cell_type": "markdown",
   "id": "e428b664",
   "metadata": {},
   "source": [
    "In this process, it was found that a number of records were falling out due to small differences in the university names. To handle these, I considered using a fuzzy match but chose against it since some of the values in \"non-Cambridge uni\" are that of sixth form colleges. To avoid incorrectly matching these, I chose to handle most fallouts by hand. \n",
    "\n",
    "While this was time inefficient, it gave me greater control over the quality of my data."
   ]
  },
  {
   "cell_type": "code",
   "execution_count": 17,
   "id": "27427cc5",
   "metadata": {},
   "outputs": [],
   "source": [
    "unmatched = dup_df[dup_df['2025 Rank'].isna()]['non-Cambridge uni'].unique()"
   ]
  },
  {
   "cell_type": "code",
   "execution_count": 18,
   "id": "1f8cf7d6",
   "metadata": {},
   "outputs": [],
   "source": [
    "#for dup_df:\n",
    "\n",
    "dup_df.loc[dup_df[\"non-Cambridge uni\"] == \"University of Warwick\", \"2025 Rank\"] = 69\n",
    "dup_df.loc[dup_df[\"non-Cambridge uni\"] == \"University of Warwick - Warwick Business School\", \"2025 Rank\"] = 69\n",
    "dup_df.loc[dup_df[\"non-Cambridge uni\"] == \"Massachusetts Institute of Technology\", \"2025 Rank\"] = 1\n",
    "dup_df.loc[dup_df[\"non-Cambridge uni\"] == \"University of Sydney\", \"2025 Rank\"] = 18\n",
    "dup_df.loc[dup_df[\"non-Cambridge uni\"] == \"Indian Institute of Technology, Madras\", \"2025 Rank\"] = 227\n",
    "dup_df.loc[dup_df[\"non-Cambridge uni\"] == \"Trinity College Dublin\", \"2025 Rank\"] = 87\n",
    "dup_df.loc[dup_df[\"non-Cambridge uni\"] == \"Cardiff University / Prifysgol Caerdydd\", \"2025 Rank\"] = 186\n",
    "dup_df.loc[dup_df[\"non-Cambridge uni\"] == \"City St George’s, University of London\", \"2025 Rank\"] = 352\n",
    "dup_df.loc[dup_df[\"non-Cambridge uni\"] == \"Københavns Universitet - University of Copenhagen\", \"2025 Rank\"] = 100\n",
    "dup_df.loc[dup_df[\"non-Cambridge uni\"] == \"University of Exeter\", \"2025 Rank\"] = 169\n",
    "dup_df.loc[dup_df[\"non-Cambridge uni\"] == \"University of Naples ‘Parthenope’\", \"2025 Rank\"] = 1100\n",
    "dup_df.loc[dup_df[\"non-Cambridge uni\"] == \"Saïd Business School, University of Oxford\", \"2025 Rank\"] = 3\n",
    "dup_df.loc[dup_df[\"non-Cambridge uni\"] == \"University of Canterbury\", \"2025 Rank\"] = 261\n",
    "dup_df.loc[dup_df[\"non-Cambridge uni\"] == \"UC Santa Barbara\", \"2025 Rank\"] = 178\n",
    "dup_df.loc[dup_df[\"non-Cambridge uni\"] == \"Middlesex University (Hornsey College of Art)\", \"2025 Rank\"] = 725\n",
    "dup_df.loc[dup_df[\"non-Cambridge uni\"] == \"University of Hamburg\", \"2025 Rank\"] = 191\n",
    "dup_df.loc[dup_df[\"non-Cambridge uni\"] == \"Royal Holloway, University of London\", \"2025 Rank\"] = 477\n",
    "dup_df.loc[dup_df[\"non-Cambridge uni\"] == \"University of Benin\", \"2025 Rank\"] = 1350\n",
    "dup_df.loc[dup_df[\"non-Cambridge uni\"] == \"Vellore Institute of Technology\", \"2025 Rank\"] = 795\n",
    "dup_df.loc[dup_df[\"non-Cambridge uni\"] == \"Imperial College Business School\", \"2025 Rank\"] = 2\n",
    "dup_df.loc[dup_df[\"non-Cambridge uni\"] == \"Universidad Politécnica de Madrid\", \"2025 Rank\"] = 321\n",
    "dup_df.loc[dup_df[\"non-Cambridge uni\"] == \"Kingston University\", \"2025 Rank\"] = 605\n",
    "dup_df.loc[dup_df[\"non-Cambridge uni\"] == \"Univeristy of Cambridge\", \"2025 Rank\"] = 5\n",
    "dup_df.loc[dup_df[\"non-Cambridge uni\"] == \"Delhi University\", \"2025 Rank\"] = 328\n",
    "\n",
    "#for arb_df\n",
    "\n",
    "arb_df.loc[arb_df[\"non-Cambridge uni\"] == \"University of Warwick\", \"2025 Rank\"] = 69\n",
    "arb_df.loc[arb_df[\"non-Cambridge uni\"] == \"University of Warwick - Warwick Business School\", \"2025 Rank\"] = 69\n",
    "arb_df.loc[arb_df[\"non-Cambridge uni\"] == \"Massachusetts Institute of Technology\", \"2025 Rank\"] = 1\n",
    "arb_df.loc[arb_df[\"non-Cambridge uni\"] == \"University of Sydney\", \"2025 Rank\"] = 18\n",
    "arb_df.loc[arb_df[\"non-Cambridge uni\"] == \"Indian Institute of Technology, Madras\", \"2025 Rank\"] = 227\n",
    "arb_df.loc[arb_df[\"non-Cambridge uni\"] == \"Trinity College Dublin\", \"2025 Rank\"] = 87\n",
    "arb_df.loc[arb_df[\"non-Cambridge uni\"] == \"Cardiff University / Prifysgol Caerdydd\", \"2025 Rank\"] = 186\n",
    "arb_df.loc[arb_df[\"non-Cambridge uni\"] == \"City St George’s, University of London\", \"2025 Rank\"] = 352\n",
    "arb_df.loc[arb_df[\"non-Cambridge uni\"] == \"Københavns Universitet - University of Copenhagen\", \"2025 Rank\"] = 100\n",
    "arb_df.loc[arb_df[\"non-Cambridge uni\"] == \"University of Exeter\", \"2025 Rank\"] = 169\n",
    "arb_df.loc[arb_df[\"non-Cambridge uni\"] == \"University of Naples ‘Parthenope’\", \"2025 Rank\"] = 1100\n",
    "arb_df.loc[arb_df[\"non-Cambridge uni\"] == \"Saïd Business School, University of Oxford\", \"2025 Rank\"] = 3\n",
    "arb_df.loc[arb_df[\"non-Cambridge uni\"] == \"University of Canterbury\", \"2025 Rank\"] = 261\n",
    "arb_df.loc[arb_df[\"non-Cambridge uni\"] == \"UC Santa Barbara\", \"2025 Rank\"] = 178\n",
    "arb_df.loc[arb_df[\"non-Cambridge uni\"] == \"Middlesex University (Hornsey College of Art)\", \"2025 Rank\"] = 725\n",
    "arb_df.loc[arb_df[\"non-Cambridge uni\"] == \"University of Hamburg\", \"2025 Rank\"] = 191\n",
    "arb_df.loc[arb_df[\"non-Cambridge uni\"] == \"Royal Holloway, University of London\", \"2025 Rank\"] = 477\n",
    "arb_df.loc[arb_df[\"non-Cambridge uni\"] == \"University of Benin\", \"2025 Rank\"] = 1350\n",
    "arb_df.loc[arb_df[\"non-Cambridge uni\"] == \"Vellore Institute of Technology\", \"2025 Rank\"] = 795\n",
    "arb_df.loc[arb_df[\"non-Cambridge uni\"] == \"Imperial College Business School\", \"2025 Rank\"] = 2\n",
    "arb_df.loc[arb_df[\"non-Cambridge uni\"] == \"Universidad Politécnica de Madrid\", \"2025 Rank\"] = 321\n",
    "arb_df.loc[arb_df[\"non-Cambridge uni\"] == \"Kingston University\", \"2025 Rank\"] = 605\n",
    "arb_df.loc[arb_df[\"non-Cambridge uni\"] == \"Univeristy of Cambridge\", \"2025 Rank\"] = 5\n",
    "arb_df.loc[arb_df[\"non-Cambridge uni\"] == \"Delhi University\", \"2025 Rank\"] = 328"
   ]
  },
  {
   "cell_type": "markdown",
   "id": "2bfb1c09",
   "metadata": {},
   "source": [
    "As my dataset is small, I chose to handle all other null values differently. \n",
    "\n",
    "On investigating the QS ranking dataset, I noticed that the dataset only included the top 1500 universities. \n",
    "\n",
    "Furthermore, I observed that after the first 600 universities the rankings are a range. To handle this, I decided to assign such records the average of the range."
   ]
  },
  {
   "cell_type": "code",
   "execution_count": 19,
   "id": "7460aa8c",
   "metadata": {},
   "outputs": [],
   "source": [
    "dup_df[\"2025 Rank\"]=dup_df[\"2025 Rank\"].fillna(9999)\n",
    "arb_df[\"2025 Rank\"]=arb_df[\"2025 Rank\"].fillna(9999)"
   ]
  },
  {
   "cell_type": "code",
   "execution_count": 20,
   "id": "ea2ec11f",
   "metadata": {},
   "outputs": [],
   "source": [
    "dup_df[\"2025 Rank\"]=dup_df[\"2025 Rank\"].astype(str)\n",
    "arb_df[\"2025 Rank\"]=arb_df[\"2025 Rank\"].astype(str)\n",
    "\n",
    "def convert_ranges(value):\n",
    "    if \"-\" in value:\n",
    "        lower, upper = map(int, value.split('-'))\n",
    "        return (lower + upper) // 2  \n",
    "    else:\n",
    "        return int(value)\n",
    "\n",
    "\n",
    "\n",
    "dup_df['2025 Rank'] = dup_df['2025 Rank'].apply(convert_ranges)\n",
    "arb_df['2025 Rank'] = arb_df['2025 Rank'].apply(convert_ranges)"
   ]
  },
  {
   "cell_type": "markdown",
   "id": "f14a8c99",
   "metadata": {},
   "source": [
    "## Model training\n",
    "\n",
    "In this project, we're going to be running three models:\n",
    "1. Logistic regression (base model)\n",
    "2. Random Forest\n",
    "2. Extra Trees\n",
    "\n",
    "Logistic regression was chosen as a base model for its interpretability. Through feature coefficietns, logistic regression provides us direct insights.\n",
    "\n",
    "Random Forest was selected for its robustness and resistance to overfitting. \n",
    "\n",
    "Extra Trees was selected to improve on Random Forests. Extra Trees are better at handling noise and could reduce bias from features such as \"2025 Rank\". "
   ]
  },
  {
   "cell_type": "code",
   "execution_count": 21,
   "id": "9f8ee25f",
   "metadata": {},
   "outputs": [],
   "source": [
    "features=[\"Uni Class\", \"data_months\",\"leader_months\", \"2025 Rank\"]\n",
    "\n",
    "x1=dup_df[features].copy()\n",
    "y1=dup_df[\"Cambridge?\"]\n",
    "\n",
    "x2=arb_df[features].copy()\n",
    "y2=arb_df[\"Cambridge?\"]"
   ]
  },
  {
   "cell_type": "markdown",
   "id": "305c5262",
   "metadata": {},
   "source": [
    "### Logistic Regression for the Duplication Dataset"
   ]
  },
  {
   "cell_type": "code",
   "execution_count": 22,
   "id": "d3095c64",
   "metadata": {},
   "outputs": [
    {
     "data": {
      "text/html": [
       "<style>#sk-container-id-1 {color: black;background-color: white;}#sk-container-id-1 pre{padding: 0;}#sk-container-id-1 div.sk-toggleable {background-color: white;}#sk-container-id-1 label.sk-toggleable__label {cursor: pointer;display: block;width: 100%;margin-bottom: 0;padding: 0.3em;box-sizing: border-box;text-align: center;}#sk-container-id-1 label.sk-toggleable__label-arrow:before {content: \"▸\";float: left;margin-right: 0.25em;color: #696969;}#sk-container-id-1 label.sk-toggleable__label-arrow:hover:before {color: black;}#sk-container-id-1 div.sk-estimator:hover label.sk-toggleable__label-arrow:before {color: black;}#sk-container-id-1 div.sk-toggleable__content {max-height: 0;max-width: 0;overflow: hidden;text-align: left;background-color: #f0f8ff;}#sk-container-id-1 div.sk-toggleable__content pre {margin: 0.2em;color: black;border-radius: 0.25em;background-color: #f0f8ff;}#sk-container-id-1 input.sk-toggleable__control:checked~div.sk-toggleable__content {max-height: 200px;max-width: 100%;overflow: auto;}#sk-container-id-1 input.sk-toggleable__control:checked~label.sk-toggleable__label-arrow:before {content: \"▾\";}#sk-container-id-1 div.sk-estimator input.sk-toggleable__control:checked~label.sk-toggleable__label {background-color: #d4ebff;}#sk-container-id-1 div.sk-label input.sk-toggleable__control:checked~label.sk-toggleable__label {background-color: #d4ebff;}#sk-container-id-1 input.sk-hidden--visually {border: 0;clip: rect(1px 1px 1px 1px);clip: rect(1px, 1px, 1px, 1px);height: 1px;margin: -1px;overflow: hidden;padding: 0;position: absolute;width: 1px;}#sk-container-id-1 div.sk-estimator {font-family: monospace;background-color: #f0f8ff;border: 1px dotted black;border-radius: 0.25em;box-sizing: border-box;margin-bottom: 0.5em;}#sk-container-id-1 div.sk-estimator:hover {background-color: #d4ebff;}#sk-container-id-1 div.sk-parallel-item::after {content: \"\";width: 100%;border-bottom: 1px solid gray;flex-grow: 1;}#sk-container-id-1 div.sk-label:hover label.sk-toggleable__label {background-color: #d4ebff;}#sk-container-id-1 div.sk-serial::before {content: \"\";position: absolute;border-left: 1px solid gray;box-sizing: border-box;top: 0;bottom: 0;left: 50%;z-index: 0;}#sk-container-id-1 div.sk-serial {display: flex;flex-direction: column;align-items: center;background-color: white;padding-right: 0.2em;padding-left: 0.2em;position: relative;}#sk-container-id-1 div.sk-item {position: relative;z-index: 1;}#sk-container-id-1 div.sk-parallel {display: flex;align-items: stretch;justify-content: center;background-color: white;position: relative;}#sk-container-id-1 div.sk-item::before, #sk-container-id-1 div.sk-parallel-item::before {content: \"\";position: absolute;border-left: 1px solid gray;box-sizing: border-box;top: 0;bottom: 0;left: 50%;z-index: -1;}#sk-container-id-1 div.sk-parallel-item {display: flex;flex-direction: column;z-index: 1;position: relative;background-color: white;}#sk-container-id-1 div.sk-parallel-item:first-child::after {align-self: flex-end;width: 50%;}#sk-container-id-1 div.sk-parallel-item:last-child::after {align-self: flex-start;width: 50%;}#sk-container-id-1 div.sk-parallel-item:only-child::after {width: 0;}#sk-container-id-1 div.sk-dashed-wrapped {border: 1px dashed gray;margin: 0 0.4em 0.5em 0.4em;box-sizing: border-box;padding-bottom: 0.4em;background-color: white;}#sk-container-id-1 div.sk-label label {font-family: monospace;font-weight: bold;display: inline-block;line-height: 1.2em;}#sk-container-id-1 div.sk-label-container {text-align: center;}#sk-container-id-1 div.sk-container {/* jupyter's `normalize.less` sets `[hidden] { display: none; }` but bootstrap.min.css set `[hidden] { display: none !important; }` so we also need the `!important` here to be able to override the default hidden behavior on the sphinx rendered scikit-learn.org. See: https://github.com/scikit-learn/scikit-learn/issues/21755 */display: inline-block !important;position: relative;}#sk-container-id-1 div.sk-text-repr-fallback {display: none;}</style><div id=\"sk-container-id-1\" class=\"sk-top-container\"><div class=\"sk-text-repr-fallback\"><pre>GridSearchCV(cv=5, estimator=LogisticRegression(max_iter=1000, random_state=42),\n",
       "             n_jobs=-1,\n",
       "             param_grid={&#x27;C&#x27;: [0.01, 0.1, 1, 10], &#x27;penalty&#x27;: [&#x27;l1&#x27;, &#x27;l2&#x27;],\n",
       "                         &#x27;solver&#x27;: [&#x27;liblinear&#x27;, &#x27;saga&#x27;]},\n",
       "             scoring=&#x27;accuracy&#x27;)</pre><b>In a Jupyter environment, please rerun this cell to show the HTML representation or trust the notebook. <br />On GitHub, the HTML representation is unable to render, please try loading this page with nbviewer.org.</b></div><div class=\"sk-container\" hidden><div class=\"sk-item sk-dashed-wrapped\"><div class=\"sk-label-container\"><div class=\"sk-label sk-toggleable\"><input class=\"sk-toggleable__control sk-hidden--visually\" id=\"sk-estimator-id-1\" type=\"checkbox\" ><label for=\"sk-estimator-id-1\" class=\"sk-toggleable__label sk-toggleable__label-arrow\">GridSearchCV</label><div class=\"sk-toggleable__content\"><pre>GridSearchCV(cv=5, estimator=LogisticRegression(max_iter=1000, random_state=42),\n",
       "             n_jobs=-1,\n",
       "             param_grid={&#x27;C&#x27;: [0.01, 0.1, 1, 10], &#x27;penalty&#x27;: [&#x27;l1&#x27;, &#x27;l2&#x27;],\n",
       "                         &#x27;solver&#x27;: [&#x27;liblinear&#x27;, &#x27;saga&#x27;]},\n",
       "             scoring=&#x27;accuracy&#x27;)</pre></div></div></div><div class=\"sk-parallel\"><div class=\"sk-parallel-item\"><div class=\"sk-item\"><div class=\"sk-label-container\"><div class=\"sk-label sk-toggleable\"><input class=\"sk-toggleable__control sk-hidden--visually\" id=\"sk-estimator-id-2\" type=\"checkbox\" ><label for=\"sk-estimator-id-2\" class=\"sk-toggleable__label sk-toggleable__label-arrow\">estimator: LogisticRegression</label><div class=\"sk-toggleable__content\"><pre>LogisticRegression(max_iter=1000, random_state=42)</pre></div></div></div><div class=\"sk-serial\"><div class=\"sk-item\"><div class=\"sk-estimator sk-toggleable\"><input class=\"sk-toggleable__control sk-hidden--visually\" id=\"sk-estimator-id-3\" type=\"checkbox\" ><label for=\"sk-estimator-id-3\" class=\"sk-toggleable__label sk-toggleable__label-arrow\">LogisticRegression</label><div class=\"sk-toggleable__content\"><pre>LogisticRegression(max_iter=1000, random_state=42)</pre></div></div></div></div></div></div></div></div></div></div>"
      ],
      "text/plain": [
       "GridSearchCV(cv=5, estimator=LogisticRegression(max_iter=1000, random_state=42),\n",
       "             n_jobs=-1,\n",
       "             param_grid={'C': [0.01, 0.1, 1, 10], 'penalty': ['l1', 'l2'],\n",
       "                         'solver': ['liblinear', 'saga']},\n",
       "             scoring='accuracy')"
      ]
     },
     "execution_count": 22,
     "metadata": {},
     "output_type": "execute_result"
    }
   ],
   "source": [
    "#logistic regression for dup_df:\n",
    "\n",
    "X_train, X_test, y_train, y_test = train_test_split(x1, y1, test_size=0.2, random_state=42)\n",
    "\n",
    "# feature scaling:\n",
    "scaler = StandardScaler()\n",
    "X_train_scaled = scaler.fit_transform(X_train)\n",
    "X_test_scaled = scaler.transform(X_test)\n",
    "\n",
    "# Handling class imbalance:\n",
    "smt = SMOTETomek(random_state=42)\n",
    "X_train_res, y_train_res = smt.fit_resample(X_train_scaled, y_train)\n",
    "\n",
    "\n",
    "#hyperparameter tuning\n",
    "\n",
    "log_model = LogisticRegression(random_state=42, max_iter=1000)\n",
    "\n",
    "param_grid = {\n",
    "    'C': [0.01, 0.1, 1, 10],\n",
    "    'penalty': ['l1', 'l2'],\n",
    "    'solver': ['liblinear', 'saga'] }\n",
    "\n",
    "\n",
    "# cross validation\n",
    "grid_search = GridSearchCV(log_model, param_grid, cv=5, scoring='accuracy', n_jobs=-1)\n",
    "grid_search.fit(X_train_res, y_train_res)\n"
   ]
  },
  {
   "cell_type": "code",
   "execution_count": 23,
   "id": "17aab20b",
   "metadata": {},
   "outputs": [],
   "source": [
    "# Prediction\n",
    "\n",
    "y_pred = grid_search.best_estimator_.predict(X_test_scaled)"
   ]
  },
  {
   "cell_type": "code",
   "execution_count": 24,
   "id": "2a529926",
   "metadata": {},
   "outputs": [
    {
     "data": {
      "image/png": "[encoded data removed]",
      "text/plain": [
       "<Figure size 576x432 with 1 Axes>"
      ]
     },
     "metadata": {
      "needs_background": "light"
     },
     "output_type": "display_data"
    }
   ],
   "source": [
    "# model evaluation\n",
    "\n",
    "accuracy = accuracy_score(y_test, y_pred)\n",
    "report = classification_report(y_test, y_pred)\n",
    "matrix = confusion_matrix(y_test, y_pred)\n",
    "\n",
    "\n",
    "# ROC-AUC Score\n",
    "roc_auc = roc_auc_score(y_test, y_pred)\n",
    "\n",
    "# Precision-Recall Curve\n",
    "precision, recall, _ = precision_recall_curve(y_test, y_pred)\n",
    "\n",
    "# Plotting the Precision-Recall curve\n",
    "import matplotlib.pyplot as plt\n",
    "\n",
    "plt.figure(figsize=(8, 6))\n",
    "plt.plot(recall, precision, marker='.', label='Logistic Regression')\n",
    "plt.xlabel('Recall')\n",
    "plt.ylabel('Precision')\n",
    "plt.title('Precision-Recall Curve')\n",
    "plt.legend()\n",
    "\n",
    "plt.savefig(f'../src/model outputs/logistic regression/duplication method Precision-Recall curve.png')\n",
    "\n",
    "with open(f'../src/model outputs/logistic regression/duplication_method.txt','w') as h:\n",
    "    h.write(f\"Accuracy:{accuracy} \\n\\n\")\n",
    "    h.write(f\"Classification Report:\\n{report} \\n\\n\")\n",
    "    h.write(f\"ROC-AUC Score:{roc_auc:.4f}\\n\\n\")\n",
    "    h.write(f\"Confusion matrix:\\n{matrix}\\n\\n\")   "
   ]
  },
  {
   "cell_type": "markdown",
   "id": "a4a358a0",
   "metadata": {},
   "source": [
    "### Logistic Regression for the Arbitrary Dataset"
   ]
  },
  {
   "cell_type": "code",
   "execution_count": 25,
   "id": "e7ad2671",
   "metadata": {},
   "outputs": [
    {
     "data": {
      "text/html": [
       "<style>#sk-container-id-2 {color: black;background-color: white;}#sk-container-id-2 pre{padding: 0;}#sk-container-id-2 div.sk-toggleable {background-color: white;}#sk-container-id-2 label.sk-toggleable__label {cursor: pointer;display: block;width: 100%;margin-bottom: 0;padding: 0.3em;box-sizing: border-box;text-align: center;}#sk-container-id-2 label.sk-toggleable__label-arrow:before {content: \"▸\";float: left;margin-right: 0.25em;color: #696969;}#sk-container-id-2 label.sk-toggleable__label-arrow:hover:before {color: black;}#sk-container-id-2 div.sk-estimator:hover label.sk-toggleable__label-arrow:before {color: black;}#sk-container-id-2 div.sk-toggleable__content {max-height: 0;max-width: 0;overflow: hidden;text-align: left;background-color: #f0f8ff;}#sk-container-id-2 div.sk-toggleable__content pre {margin: 0.2em;color: black;border-radius: 0.25em;background-color: #f0f8ff;}#sk-container-id-2 input.sk-toggleable__control:checked~div.sk-toggleable__content {max-height: 200px;max-width: 100%;overflow: auto;}#sk-container-id-2 input.sk-toggleable__control:checked~label.sk-toggleable__label-arrow:before {content: \"▾\";}#sk-container-id-2 div.sk-estimator input.sk-toggleable__control:checked~label.sk-toggleable__label {background-color: #d4ebff;}#sk-container-id-2 div.sk-label input.sk-toggleable__control:checked~label.sk-toggleable__label {background-color: #d4ebff;}#sk-container-id-2 input.sk-hidden--visually {border: 0;clip: rect(1px 1px 1px 1px);clip: rect(1px, 1px, 1px, 1px);height: 1px;margin: -1px;overflow: hidden;padding: 0;position: absolute;width: 1px;}#sk-container-id-2 div.sk-estimator {font-family: monospace;background-color: #f0f8ff;border: 1px dotted black;border-radius: 0.25em;box-sizing: border-box;margin-bottom: 0.5em;}#sk-container-id-2 div.sk-estimator:hover {background-color: #d4ebff;}#sk-container-id-2 div.sk-parallel-item::after {content: \"\";width: 100%;border-bottom: 1px solid gray;flex-grow: 1;}#sk-container-id-2 div.sk-label:hover label.sk-toggleable__label {background-color: #d4ebff;}#sk-container-id-2 div.sk-serial::before {content: \"\";position: absolute;border-left: 1px solid gray;box-sizing: border-box;top: 0;bottom: 0;left: 50%;z-index: 0;}#sk-container-id-2 div.sk-serial {display: flex;flex-direction: column;align-items: center;background-color: white;padding-right: 0.2em;padding-left: 0.2em;position: relative;}#sk-container-id-2 div.sk-item {position: relative;z-index: 1;}#sk-container-id-2 div.sk-parallel {display: flex;align-items: stretch;justify-content: center;background-color: white;position: relative;}#sk-container-id-2 div.sk-item::before, #sk-container-id-2 div.sk-parallel-item::before {content: \"\";position: absolute;border-left: 1px solid gray;box-sizing: border-box;top: 0;bottom: 0;left: 50%;z-index: -1;}#sk-container-id-2 div.sk-parallel-item {display: flex;flex-direction: column;z-index: 1;position: relative;background-color: white;}#sk-container-id-2 div.sk-parallel-item:first-child::after {align-self: flex-end;width: 50%;}#sk-container-id-2 div.sk-parallel-item:last-child::after {align-self: flex-start;width: 50%;}#sk-container-id-2 div.sk-parallel-item:only-child::after {width: 0;}#sk-container-id-2 div.sk-dashed-wrapped {border: 1px dashed gray;margin: 0 0.4em 0.5em 0.4em;box-sizing: border-box;padding-bottom: 0.4em;background-color: white;}#sk-container-id-2 div.sk-label label {font-family: monospace;font-weight: bold;display: inline-block;line-height: 1.2em;}#sk-container-id-2 div.sk-label-container {text-align: center;}#sk-container-id-2 div.sk-container {/* jupyter's `normalize.less` sets `[hidden] { display: none; }` but bootstrap.min.css set `[hidden] { display: none !important; }` so we also need the `!important` here to be able to override the default hidden behavior on the sphinx rendered scikit-learn.org. See: https://github.com/scikit-learn/scikit-learn/issues/21755 */display: inline-block !important;position: relative;}#sk-container-id-2 div.sk-text-repr-fallback {display: none;}</style><div id=\"sk-container-id-2\" class=\"sk-top-container\"><div class=\"sk-text-repr-fallback\"><pre>GridSearchCV(cv=5, estimator=LogisticRegression(max_iter=1000, random_state=42),\n",
       "             n_jobs=-1,\n",
       "             param_grid={&#x27;C&#x27;: [0.01, 0.1, 1, 10], &#x27;penalty&#x27;: [&#x27;l1&#x27;, &#x27;l2&#x27;],\n",
       "                         &#x27;solver&#x27;: [&#x27;liblinear&#x27;, &#x27;saga&#x27;]},\n",
       "             scoring=&#x27;accuracy&#x27;)</pre><b>In a Jupyter environment, please rerun this cell to show the HTML representation or trust the notebook. <br />On GitHub, the HTML representation is unable to render, please try loading this page with nbviewer.org.</b></div><div class=\"sk-container\" hidden><div class=\"sk-item sk-dashed-wrapped\"><div class=\"sk-label-container\"><div class=\"sk-label sk-toggleable\"><input class=\"sk-toggleable__control sk-hidden--visually\" id=\"sk-estimator-id-4\" type=\"checkbox\" ><label for=\"sk-estimator-id-4\" class=\"sk-toggleable__label sk-toggleable__label-arrow\">GridSearchCV</label><div class=\"sk-toggleable__content\"><pre>GridSearchCV(cv=5, estimator=LogisticRegression(max_iter=1000, random_state=42),\n",
       "             n_jobs=-1,\n",
       "             param_grid={&#x27;C&#x27;: [0.01, 0.1, 1, 10], &#x27;penalty&#x27;: [&#x27;l1&#x27;, &#x27;l2&#x27;],\n",
       "                         &#x27;solver&#x27;: [&#x27;liblinear&#x27;, &#x27;saga&#x27;]},\n",
       "             scoring=&#x27;accuracy&#x27;)</pre></div></div></div><div class=\"sk-parallel\"><div class=\"sk-parallel-item\"><div class=\"sk-item\"><div class=\"sk-label-container\"><div class=\"sk-label sk-toggleable\"><input class=\"sk-toggleable__control sk-hidden--visually\" id=\"sk-estimator-id-5\" type=\"checkbox\" ><label for=\"sk-estimator-id-5\" class=\"sk-toggleable__label sk-toggleable__label-arrow\">estimator: LogisticRegression</label><div class=\"sk-toggleable__content\"><pre>LogisticRegression(max_iter=1000, random_state=42)</pre></div></div></div><div class=\"sk-serial\"><div class=\"sk-item\"><div class=\"sk-estimator sk-toggleable\"><input class=\"sk-toggleable__control sk-hidden--visually\" id=\"sk-estimator-id-6\" type=\"checkbox\" ><label for=\"sk-estimator-id-6\" class=\"sk-toggleable__label sk-toggleable__label-arrow\">LogisticRegression</label><div class=\"sk-toggleable__content\"><pre>LogisticRegression(max_iter=1000, random_state=42)</pre></div></div></div></div></div></div></div></div></div></div>"
      ],
      "text/plain": [
       "GridSearchCV(cv=5, estimator=LogisticRegression(max_iter=1000, random_state=42),\n",
       "             n_jobs=-1,\n",
       "             param_grid={'C': [0.01, 0.1, 1, 10], 'penalty': ['l1', 'l2'],\n",
       "                         'solver': ['liblinear', 'saga']},\n",
       "             scoring='accuracy')"
      ]
     },
     "execution_count": 25,
     "metadata": {},
     "output_type": "execute_result"
    }
   ],
   "source": [
    "#logistic regression for arb_df:\n",
    "\n",
    "X_train, X_test, y_train, y_test = train_test_split(x2, y2, test_size=0.2, random_state=42)\n",
    "\n",
    "# feature scaling:\n",
    "scaler = StandardScaler()\n",
    "X_train_scaled = scaler.fit_transform(X_train)\n",
    "X_test_scaled = scaler.transform(X_test)\n",
    "\n",
    "# Handling class imbalance:\n",
    "smt = SMOTETomek(random_state=42)\n",
    "X_train_res, y_train_res = smt.fit_resample(X_train_scaled, y_train)\n",
    "\n",
    "\n",
    "#hyperparameter tuning\n",
    "\n",
    "log_model = LogisticRegression(random_state=42, max_iter=1000)\n",
    "\n",
    "param_grid = {\n",
    "    'C': [0.01, 0.1, 1, 10],\n",
    "    'penalty': ['l1', 'l2'],\n",
    "    'solver': ['liblinear', 'saga'] }\n",
    "\n",
    "\n",
    "# cross validation\n",
    "grid_search = GridSearchCV(log_model, param_grid, cv=5, scoring='accuracy', n_jobs=-1)\n",
    "grid_search.fit(X_train_res, y_train_res)\n"
   ]
  },
  {
   "cell_type": "code",
   "execution_count": 26,
   "id": "4d4e9bb4",
   "metadata": {},
   "outputs": [],
   "source": [
    "# Prediction\n",
    "\n",
    "y_pred = grid_search.best_estimator_.predict(X_test_scaled)"
   ]
  },
  {
   "cell_type": "code",
   "execution_count": 27,
   "id": "66cf4795",
   "metadata": {},
   "outputs": [
    {
     "data": {
      "image/png": "[encoded data removed]",
      "text/plain": [
       "<Figure size 576x432 with 1 Axes>"
      ]
     },
     "metadata": {
      "needs_background": "light"
     },
     "output_type": "display_data"
    }
   ],
   "source": [
    "# model evaluation\n",
    "\n",
    "accuracy = accuracy_score(y_test, y_pred)\n",
    "report = classification_report(y_test, y_pred)\n",
    "matrix = confusion_matrix(y_test, y_pred)\n",
    "\n",
    "\n",
    "# ROC-AUC Score\n",
    "roc_auc = roc_auc_score(y_test, y_pred)\n",
    "\n",
    "# Precision-Recall Curve\n",
    "precision, recall, _ = precision_recall_curve(y_test, y_pred)\n",
    "\n",
    "# Plotting the Precision-Recall curve\n",
    "import matplotlib.pyplot as plt\n",
    "\n",
    "plt.figure(figsize=(8, 6))\n",
    "plt.plot(recall, precision, marker='.', label='Logistic Regression')\n",
    "plt.xlabel('Recall')\n",
    "plt.ylabel('Precision')\n",
    "plt.title('Precision-Recall Curve')\n",
    "plt.legend()\n",
    "\n",
    "plt.savefig(f'../src/model outputs/logistic regression/arbitrary method Precision-Recall curve.png')\n",
    "\n",
    "with open(f'../src/model outputs/logistic regression/arbitrary_method.txt','w') as h:\n",
    "    h.write(f\"Accuracy:{accuracy} \\n\\n\")\n",
    "    h.write(f\"Classification Report:\\n{report} \\n\\n\")\n",
    "    h.write(f\"ROC-AUC Score:{roc_auc:.4f}\\n\\n\")\n",
    "    h.write(f\"Confusion matrix:\\n{matrix}\\n\\n\")   "
   ]
  },
  {
   "cell_type": "markdown",
   "id": "9844d045",
   "metadata": {},
   "source": [
    "### Random Forest for the Duplication Dataset"
   ]
  },
  {
   "cell_type": "code",
   "execution_count": 28,
   "id": "a18c9538",
   "metadata": {},
   "outputs": [],
   "source": [
    "X_train, X_test, y_train, y_test = train_test_split(x1, y1, test_size=0.2, random_state=42)\n",
    "\n",
    "#using SMOTE to handle imbalance in dataset\n",
    "pipeline = ImbPipeline([\n",
    "    ('smote', SMOTE(random_state=42)),\n",
    "    ('dup_model', RandomForestClassifier(random_state=42))\n",
    "])\n",
    "\n",
    "#tuning hyperparameters to reduce chances of overfitting\n",
    "param_grid = {\n",
    "    'dup_model__n_estimators': [50, 100, 200],\n",
    "    'dup_model__max_depth': [5, 10, 15],\n",
    "    'dup_model__min_samples_leaf': [1, 5, 10],\n",
    "    'dup_model__max_features': ['sqrt', 'log2']\n",
    "}\n",
    "\n",
    "\n",
    "# Grid search with cross-validation\n",
    "grid_search = GridSearchCV(\n",
    "    pipeline, \n",
    "    param_grid, \n",
    "    cv=5,         \n",
    "    scoring='accuracy',\n",
    "    n_jobs=-1\n",
    ")\n",
    "\n",
    "# Fit the model\n",
    "grid_search.fit(X_train, y_train)\n",
    "\n",
    "#using the best model for predictions:\n",
    "best_model = grid_search.best_estimator_\n"
   ]
  },
  {
   "cell_type": "code",
   "execution_count": 29,
   "id": "745dc1e2",
   "metadata": {},
   "outputs": [],
   "source": [
    "# Predicting on the test set\n",
    "y_pred = best_model.predict(X_test)  "
   ]
  },
  {
   "cell_type": "code",
   "execution_count": 30,
   "id": "599e95f3",
   "metadata": {},
   "outputs": [],
   "source": [
    "#model evaluation\n",
    "\n",
    "accuracy = accuracy_score(y_test, y_pred)\n",
    "\n",
    "report = classification_report(y_test, y_pred)\n",
    "\n",
    "\n",
    "#checking for overfitting \n",
    "\n",
    "train_pred = best_model.predict(X_train)\n",
    "train_accuracy = accuracy_score(y_train, train_pred)\n",
    "\n",
    "\n",
    "# Perform 5-fold cross-validation\n",
    "cv_scores = cross_val_score(best_model, X_train, y_train, cv=5)\n",
    "\n",
    "\n",
    "# Correlation with target\n",
    "corr = pd.concat([X_train, y_train], axis=1).corr(method='spearman')\n",
    "matrix = corr['Cambridge?'].sort_values(ascending=False)\n",
    "\n",
    "####\n",
    "result = permutation_importance(best_model, X_test, y_test, n_repeats=10, random_state=42)\n",
    "imp={}\n",
    "for i in result.importances_mean.argsort()[::-1]:\n",
    "    feature_name = X_test.columns[i]\n",
    "    importance_value = result.importances_mean[i]\n",
    "    imp[feature_name] = round(importance_value, 4)\n",
    "    \n",
    "    \n",
    "with open(f'../src/model outputs/random forest/duplication_method.txt','w') as h:\n",
    "    h.write(f\"Accuracy:{accuracy}\\n\\n\")\n",
    "    h.write(f\"Classification Report:\\n{report} \\n\\n\")\n",
    "    h.write(f\"Training accuracy:{train_accuracy:.4f}\\n\\n\")\n",
    "    h.write(f\"Cross validation accuracy:{cv_scores.mean():.4f}\\n\\n\")\n",
    "    h.write(f\"Checking for data leakage:\\n{len(set(X_train.index) & set(X_test.index))}\\n\\n\")\n",
    "    h.write(f\"Correlation matrix:\\n{matrix}\\n\\n\")\n",
    "    h.write(f\"Feature Importance:\\n{imp}\\n\\n\")\n"
   ]
  },
  {
   "cell_type": "markdown",
   "id": "acf30810",
   "metadata": {},
   "source": [
    "### Random Forest for the Arbitrary Dataset"
   ]
  },
  {
   "cell_type": "code",
   "execution_count": 31,
   "id": "02db6736",
   "metadata": {},
   "outputs": [],
   "source": [
    "X_train, X_test, y_train, y_test = train_test_split(x2, y2, test_size=0.2, random_state=42)\n",
    "\n",
    "#using SMOTE to handle imbalance in dataset\n",
    "pipeline = ImbPipeline([\n",
    "    ('smote', SMOTE(random_state=42)),\n",
    "    ('dup_model', RandomForestClassifier(random_state=42))\n",
    "])\n",
    "\n",
    "#tuning hyperparameters to reduce chances of overfitting\n",
    "param_grid = {\n",
    "    'dup_model__n_estimators': [50, 100, 200],\n",
    "    'dup_model__max_depth': [5, 10, 15],\n",
    "    'dup_model__min_samples_leaf': [1, 5, 10],\n",
    "    'dup_model__max_features': ['sqrt', 'log2']\n",
    "}\n",
    "\n",
    "\n",
    "# Grid search with cross-validation\n",
    "grid_search = GridSearchCV(\n",
    "    pipeline, \n",
    "    param_grid, \n",
    "    cv=5,         \n",
    "    scoring='accuracy',\n",
    "    n_jobs=-1\n",
    ")\n",
    "\n",
    "# Fit the model\n",
    "grid_search.fit(X_train, y_train)\n",
    "\n",
    "#using the best model for predictions:\n",
    "best_model = grid_search.best_estimator_"
   ]
  },
  {
   "cell_type": "code",
   "execution_count": 32,
   "id": "7895978f",
   "metadata": {},
   "outputs": [],
   "source": [
    "# Predicting on the test set\n",
    "y_pred = best_model.predict(X_test)  "
   ]
  },
  {
   "cell_type": "code",
   "execution_count": 33,
   "id": "0cb6af83",
   "metadata": {},
   "outputs": [],
   "source": [
    "#model evaluation\n",
    "\n",
    "accuracy = accuracy_score(y_test, y_pred)\n",
    "\n",
    "report = classification_report(y_test, y_pred)\n",
    "\n",
    "\n",
    "#checking for overfitting \n",
    "\n",
    "train_pred = best_model.predict(X_train)\n",
    "train_accuracy = accuracy_score(y_train, train_pred)\n",
    "\n",
    "\n",
    "# Perform 5-fold cross-validation\n",
    "cv_scores = cross_val_score(best_model, X_train, y_train, cv=5)\n",
    "\n",
    "\n",
    "# Correlation with target\n",
    "corr = pd.concat([X_train, y_train], axis=1).corr(method='spearman')\n",
    "matrix = corr['Cambridge?'].sort_values(ascending=False)\n",
    "\n",
    "####\n",
    "result = permutation_importance(best_model, X_test, y_test, n_repeats=10, random_state=42)\n",
    "imp={}\n",
    "for i in result.importances_mean.argsort()[::-1]:\n",
    "    feature_name = X_test.columns[i]\n",
    "    importance_value = result.importances_mean[i]\n",
    "    imp[feature_name] = round(importance_value, 4)\n",
    "    \n",
    "    \n",
    "with open(f'../src/model outputs/random forest/arbitrary_method.txt','w') as h:\n",
    "    h.write(f\"Accuracy:{accuracy}\\n\\n\")\n",
    "    h.write(f\"Classification Report:\\n{report} \\n\\n\")\n",
    "    h.write(f\"Training accuracy:{train_accuracy:.4f}\\n\\n\")\n",
    "    h.write(f\"Cross validation accuracy:{cv_scores.mean():.4f}\\n\\n\")\n",
    "    h.write(f\"Checking for data leakage:\\n{len(set(X_train.index) & set(X_test.index))}\\n\\n\")\n",
    "    h.write(f\"Correlation matrix:\\n{matrix}\\n\\n\")\n",
    "    h.write(f\"Feature Importance:\\n{imp}\\n\\n\")\n"
   ]
  },
  {
   "cell_type": "markdown",
   "id": "649c4c80",
   "metadata": {},
   "source": [
    "### Extra Trees for the Duplication Dataset"
   ]
  },
  {
   "cell_type": "code",
   "execution_count": 34,
   "id": "0f1e4f07",
   "metadata": {},
   "outputs": [],
   "source": [
    "\n",
    "X_train, X_test, y_train, y_test = train_test_split(x1, y1, test_size=0.2, random_state=42)\n",
    "\n",
    "et_pipeline = ImbPipeline([\n",
    "    ('smote', SMOTE(random_state=42)),\n",
    "    ('dup_class', ExtraTreesClassifier(random_state=42))\n",
    "])\n",
    "\n",
    "# Define a simple hyperparameter grid to test\n",
    "param_grid_et = {\n",
    "    'dup_class__n_estimators': [100, 200],\n",
    "    'dup_class__max_depth': [None, 10, 20],\n",
    "    'dup_class__min_samples_split': [2, 5],\n",
    "    'dup_class__min_samples_leaf': [1, 2]\n",
    "}\n",
    "\n",
    "# Set up GridSearchCV\n",
    "grid_search_et = GridSearchCV(\n",
    "    et_pipeline, \n",
    "    param_grid_et, \n",
    "    cv=5, \n",
    "    scoring='f1', \n",
    "    n_jobs=-1\n",
    ")\n",
    "\n",
    "# Fit the model\n",
    "grid_search_et.fit(X_train, y_train)\n",
    "\n",
    "# Best Extra Trees model\n",
    "best_et_model = grid_search_et.best_estimator_\n",
    "\n",
    "# Evaluate\n",
    "et_predictions = best_et_model.predict(X_test)"
   ]
  },
  {
   "cell_type": "code",
   "execution_count": 35,
   "id": "ae094c60",
   "metadata": {},
   "outputs": [],
   "source": [
    "# Predicting on the test set\n",
    "y_pred = best_et_model.predict(X_test)  "
   ]
  },
  {
   "cell_type": "code",
   "execution_count": 36,
   "id": "6dceae52",
   "metadata": {},
   "outputs": [],
   "source": [
    "#model evaluation\n",
    "\n",
    "accuracy = accuracy_score(y_test, y_pred)\n",
    "\n",
    "report = classification_report(y_test, y_pred)\n",
    "\n",
    "\n",
    "#checking for overfitting \n",
    "\n",
    "train_pred = best_model.predict(X_train)\n",
    "train_accuracy = accuracy_score(y_train, train_pred)\n",
    "\n",
    "\n",
    "# Perform 5-fold cross-validation\n",
    "cv_scores = cross_val_score(best_model, X_train, y_train, cv=5)\n",
    "\n",
    "\n",
    "# Correlation with target\n",
    "corr = pd.concat([X_train, y_train], axis=1).corr(method='spearman')\n",
    "matrix = corr['Cambridge?'].sort_values(ascending=False)\n",
    "\n",
    "####\n",
    "result = permutation_importance(best_model, X_test, y_test, n_repeats=10, random_state=42)\n",
    "imp={}\n",
    "for i in result.importances_mean.argsort()[::-1]:\n",
    "    feature_name = X_test.columns[i]\n",
    "    importance_value = result.importances_mean[i]\n",
    "    imp[feature_name] = round(importance_value, 4)\n",
    "    \n",
    "    \n",
    "with open(f'../src/model outputs/extra trees/duplication_method.txt','w') as h:\n",
    "    h.write(f\"Accuracy:{accuracy}\\n\\n\")\n",
    "    h.write(f\"Classification Report:\\n{report} \\n\\n\")\n",
    "    h.write(f\"Training accuracy:{train_accuracy:.4f}\\n\\n\")\n",
    "    h.write(f\"Cross validation accuracy:{cv_scores.mean():.4f}\\n\\n\")\n",
    "    h.write(f\"Checking for data leakage:\\n{len(set(X_train.index) & set(X_test.index))}\\n\\n\")\n",
    "    h.write(f\"Correlation matrix:\\n{matrix}\\n\\n\")\n",
    "    h.write(f\"Feature Importance:\\n{imp}\\n\\n\")\n"
   ]
  },
  {
   "cell_type": "markdown",
   "id": "2baaf26a",
   "metadata": {},
   "source": [
    "### Extra Trees for the Arbitrary Dataset"
   ]
  },
  {
   "cell_type": "code",
   "execution_count": 37,
   "id": "8eca7cde",
   "metadata": {},
   "outputs": [],
   "source": [
    "X_train, X_test, y_train, y_test = train_test_split(x2, y2, test_size=0.2, random_state=42)\n",
    "\n",
    "et_pipeline = ImbPipeline([\n",
    "    ('smote', SMOTE(random_state=42)),\n",
    "    ('arb_class', ExtraTreesClassifier(random_state=42))\n",
    "])\n",
    "\n",
    "# Define a simple hyperparameter grid to test\n",
    "param_grid_et = {\n",
    "    'arb_class__n_estimators': [100, 200],\n",
    "    'arb_class__max_depth': [None, 10, 20],\n",
    "    'arb_class__min_samples_split': [2, 5],\n",
    "    'arb_class__min_samples_leaf': [1, 2]\n",
    "}\n",
    "\n",
    "# Set up GridSearchCV\n",
    "grid_search_et = GridSearchCV(\n",
    "    et_pipeline, \n",
    "    param_grid_et, \n",
    "    cv=5, \n",
    "    scoring='f1', \n",
    "    n_jobs=-1\n",
    ")\n",
    "\n",
    "# Fit the model\n",
    "grid_search_et.fit(X_train, y_train)\n",
    "\n",
    "# Best Extra Trees model\n",
    "best_et_model = grid_search_et.best_estimator_\n",
    "\n",
    "# Evaluate\n",
    "et_predictions = best_et_model.predict(X_test)\n"
   ]
  },
  {
   "cell_type": "code",
   "execution_count": 38,
   "id": "7e6e969c",
   "metadata": {},
   "outputs": [],
   "source": [
    "# Predicting on the test set\n",
    "y_pred = best_et_model.predict(X_test)  \n"
   ]
  },
  {
   "cell_type": "code",
   "execution_count": 39,
   "id": "2c9b4f06",
   "metadata": {},
   "outputs": [],
   "source": [
    "#model evaluation\n",
    "\n",
    "accuracy = accuracy_score(y_test, y_pred)\n",
    "\n",
    "report = classification_report(y_test, y_pred)\n",
    "\n",
    "\n",
    "#checking for overfitting \n",
    "\n",
    "train_pred = best_model.predict(X_train)\n",
    "train_accuracy = accuracy_score(y_train, train_pred)\n",
    "\n",
    "\n",
    "# Perform 5-fold cross-validation\n",
    "cv_scores = cross_val_score(best_model, X_train, y_train, cv=5)\n",
    "\n",
    "\n",
    "# Correlation with target\n",
    "corr = pd.concat([X_train, y_train], axis=1).corr(method='spearman')\n",
    "matrix = corr['Cambridge?'].sort_values(ascending=False)\n",
    "\n",
    "####\n",
    "result = permutation_importance(best_model, X_test, y_test, n_repeats=10, random_state=42)\n",
    "imp={}\n",
    "for i in result.importances_mean.argsort()[::-1]:\n",
    "    feature_name = X_test.columns[i]\n",
    "    importance_value = result.importances_mean[i]\n",
    "    imp[feature_name] = round(importance_value, 4)\n",
    "    \n",
    "    \n",
    "with open(f'../src/model outputs/extra trees/arbitrary_method.txt','w') as h:\n",
    "    h.write(f\"Accuracy:{accuracy}\\n\\n\")\n",
    "    h.write(f\"Classification Report:\\n{report} \\n\\n\")\n",
    "    h.write(f\"Training accuracy:{train_accuracy:.4f}\\n\\n\")\n",
    "    h.write(f\"Cross validation accuracy:{cv_scores.mean():.4f}\\n\\n\")\n",
    "    h.write(f\"Checking for data leakage:\\n{len(set(X_train.index) & set(X_test.index))}\\n\\n\")\n",
    "    h.write(f\"Correlation matrix:\\n{matrix}\\n\\n\")\n",
    "    h.write(f\"Feature Importance:\\n{imp}\\n\\n\")\n"
   ]
  }
 ],
 "metadata": {
  "kernelspec": {
   "display_name": "Python (base)",
   "language": "python",
   "name": "base"
  },
  "language_info": {
   "codemirror_mode": {
    "name": "ipython",
    "version": 3
   },
   "file_extension": ".py",
   "mimetype": "text/x-python",
   "name": "python",
   "nbconvert_exporter": "python",
   "pygments_lexer": "ipython3",
   "version": "3.9.7"
  }
 },
 "nbformat": 4,
 "nbformat_minor": 5
}
